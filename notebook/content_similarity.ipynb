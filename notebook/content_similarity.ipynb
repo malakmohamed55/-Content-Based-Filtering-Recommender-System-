{
 "cells": [
  {
   "cell_type": "code",
   "execution_count": 10,
   "id": "73f91b56",
   "metadata": {},
   "outputs": [
    {
     "data": {
      "text/html": [
       "<div>\n",
       "<style scoped>\n",
       "    .dataframe tbody tr th:only-of-type {\n",
       "        vertical-align: middle;\n",
       "    }\n",
       "\n",
       "    .dataframe tbody tr th {\n",
       "        vertical-align: top;\n",
       "    }\n",
       "\n",
       "    .dataframe thead th {\n",
       "        text-align: right;\n",
       "    }\n",
       "</style>\n",
       "<table border=\"1\" class=\"dataframe\">\n",
       "  <thead>\n",
       "    <tr style=\"text-align: right;\">\n",
       "      <th></th>\n",
       "      <th>title</th>\n",
       "      <th>similarity</th>\n",
       "    </tr>\n",
       "  </thead>\n",
       "  <tbody>\n",
       "    <tr>\n",
       "      <th>0</th>\n",
       "      <td>The Brands Queen Elizabeth, Prince Charles, an...</td>\n",
       "      <td>0.0</td>\n",
       "    </tr>\n",
       "    <tr>\n",
       "      <th>1</th>\n",
       "      <td>50 Worst Habits For Belly Fat</td>\n",
       "      <td>0.0</td>\n",
       "    </tr>\n",
       "    <tr>\n",
       "      <th>2</th>\n",
       "      <td>The Cost of Trump's Aid Freeze in the Trenches...</td>\n",
       "      <td>0.0</td>\n",
       "    </tr>\n",
       "    <tr>\n",
       "      <th>3</th>\n",
       "      <td>I Was An NBA Wife. Here's How It Affected My M...</td>\n",
       "      <td>0.0</td>\n",
       "    </tr>\n",
       "    <tr>\n",
       "      <th>4</th>\n",
       "      <td>How to Get Rid of Skin Tags, According to a De...</td>\n",
       "      <td>0.0</td>\n",
       "    </tr>\n",
       "  </tbody>\n",
       "</table>\n",
       "</div>"
      ],
      "text/plain": [
       "                                               title  similarity\n",
       "0  The Brands Queen Elizabeth, Prince Charles, an...         0.0\n",
       "1                      50 Worst Habits For Belly Fat         0.0\n",
       "2  The Cost of Trump's Aid Freeze in the Trenches...         0.0\n",
       "3  I Was An NBA Wife. Here's How It Affected My M...         0.0\n",
       "4  How to Get Rid of Skin Tags, According to a De...         0.0"
      ]
     },
     "execution_count": 10,
     "metadata": {},
     "output_type": "execute_result"
    }
   ],
   "source": [
    "import pandas as pd\n",
    "from sklearn.feature_extraction.text import TfidfVectorizer\n",
    "from sklearn.metrics.pairwise import cosine_similarity\n",
    "\n",
    "# Load data\n",
    "df = pd.read_csv(r'c:\\Users\\Admin\\OneDrive\\Documents\\Desktop\\bonus assigment ip\\news_cleaned.csv')\n",
    "\n",
    "# Use the same user profile from the previous notebook\n",
    "user_profile = 'technology ai innovation'\n",
    "\n",
    "# Create TF-IDF matrix from article content\n",
    "vectorizer = TfidfVectorizer(stop_words='english')\n",
    "tfidf_matrix = vectorizer.fit_transform(df['content'])\n",
    "\n",
    "# Transform the user profile into the same TF-IDF space\n",
    "user_vec = vectorizer.transform([user_profile])\n",
    "\n",
    "# Compute cosine similarity between user profile and all articles\n",
    "df['similarity'] = cosine_similarity(user_vec, tfidf_matrix).flatten()\n",
    "\n",
    "# Save the results with similarity scores\n",
    "df.to_csv(\"similarity_scored_news.csv\", index=False)\n",
    "\n",
    "\n",
    "df[['title', 'similarity']].head()\n"
   ]
  }
 ],
 "metadata": {
  "kernelspec": {
   "display_name": "Python 3",
   "language": "python",
   "name": "python3"
  },
  "language_info": {
   "codemirror_mode": {
    "name": "ipython",
    "version": 3
   },
   "file_extension": ".py",
   "mimetype": "text/x-python",
   "name": "python",
   "nbconvert_exporter": "python",
   "pygments_lexer": "ipython3",
   "version": "3.13.2"
  }
 },
 "nbformat": 4,
 "nbformat_minor": 5
}
